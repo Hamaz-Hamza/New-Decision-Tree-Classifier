{
  "cells": [
    {
      "cell_type": "code",
      "execution_count": 28,
      "metadata": {
        "id": "kyDz20HTkw6u"
      },
      "outputs": [],
      "source": [
        "import pandas as pd\n",
        "import matplotlib.pyplot as plt\n",
        "import seaborn as sns\n",
        "import math\n",
        "from sklearn.model_selection import train_test_split\n",
        "import sklearn.tree # need decision tree classifier for comparison\n",
        "from sklearn.metrics import confusion_matrix # performance metrics\n",
        "from sklearn.metrics import precision_score, recall_score, accuracy_score # performance metrics"
      ]
    },
    {
      "cell_type": "code",
      "execution_count": 29,
      "metadata": {},
      "outputs": [],
      "source": [
        "def PlotConfusionMatrix(model,test_x,test_y):\n",
        "  predict_y = model.predict(test_x)\n",
        "  plt.figure(figsize=(5, 4))\n",
        "  sns.heatmap(confusion_matrix(test_y, predict_y), cmap = 'Reds', annot = True, fmt = \"1\")\n",
        "  plt.xlabel('Predicted', size = 12, weight = 'bold')\n",
        "  plt.ylabel('Actual', size = 12, weight = 'bold')\n",
        "  plt.title('Confusion Matrix', weight = 'bold')\n",
        "  plt.show()"
      ]
    },
    {
      "cell_type": "code",
      "execution_count": 30,
      "metadata": {},
      "outputs": [],
      "source": [
        "def CalculateAccuracy(model,model_name,test_x,test_y):\n",
        "  print(\"Performance of\",str(model_name))\n",
        "  y_pred = model.predict(test_x)\n",
        "  accuracy = accuracy_score(test_y, y_pred)\n",
        "  precision = precision_score(test_y, y_pred,average=\"macro\")\n",
        "  recall = recall_score(test_y, y_pred,average=\"macro\")\n",
        "  print(\"Accuracy\", round(100*accuracy,1),\"%\")\n",
        "  print(\"Precision\",round(100*precision,1),\"%\")\n",
        "  print(\"Recall\",   round(100*recall,1),\"%\")"
      ]
    },
    {
      "cell_type": "code",
      "execution_count": 31,
      "metadata": {
        "colab": {
          "base_uri": "https://localhost:8080/",
          "height": 424
        },
        "id": "xtZHDRhFkyQ8",
        "outputId": "5edd0cc9-2bc4-4bfe-8e2a-9e145fd51e7d"
      },
      "outputs": [
        {
          "data": {
            "text/html": [
              "<div>\n",
              "<style scoped>\n",
              "    .dataframe tbody tr th:only-of-type {\n",
              "        vertical-align: middle;\n",
              "    }\n",
              "\n",
              "    .dataframe tbody tr th {\n",
              "        vertical-align: top;\n",
              "    }\n",
              "\n",
              "    .dataframe thead th {\n",
              "        text-align: right;\n",
              "    }\n",
              "</style>\n",
              "<table border=\"1\" class=\"dataframe\">\n",
              "  <thead>\n",
              "    <tr style=\"text-align: right;\">\n",
              "      <th></th>\n",
              "      <th>leaf.length</th>\n",
              "      <th>leaf.width</th>\n",
              "      <th>flower.length</th>\n",
              "      <th>flower.width</th>\n",
              "      <th>plant</th>\n",
              "    </tr>\n",
              "  </thead>\n",
              "  <tbody>\n",
              "    <tr>\n",
              "      <th>0</th>\n",
              "      <td>5.4</td>\n",
              "      <td>3.7</td>\n",
              "      <td>1.5</td>\n",
              "      <td>0.2</td>\n",
              "      <td>Arctica</td>\n",
              "    </tr>\n",
              "    <tr>\n",
              "      <th>1</th>\n",
              "      <td>4.8</td>\n",
              "      <td>3.4</td>\n",
              "      <td>1.6</td>\n",
              "      <td>0.2</td>\n",
              "      <td>Arctica</td>\n",
              "    </tr>\n",
              "    <tr>\n",
              "      <th>2</th>\n",
              "      <td>4.8</td>\n",
              "      <td>3.0</td>\n",
              "      <td>1.4</td>\n",
              "      <td>0.1</td>\n",
              "      <td>Arctica</td>\n",
              "    </tr>\n",
              "    <tr>\n",
              "      <th>3</th>\n",
              "      <td>4.3</td>\n",
              "      <td>3.0</td>\n",
              "      <td>1.1</td>\n",
              "      <td>0.1</td>\n",
              "      <td>Arctica</td>\n",
              "    </tr>\n",
              "    <tr>\n",
              "      <th>4</th>\n",
              "      <td>5.8</td>\n",
              "      <td>4.0</td>\n",
              "      <td>1.2</td>\n",
              "      <td>0.2</td>\n",
              "      <td>Arctica</td>\n",
              "    </tr>\n",
              "    <tr>\n",
              "      <th>...</th>\n",
              "      <td>...</td>\n",
              "      <td>...</td>\n",
              "      <td>...</td>\n",
              "      <td>...</td>\n",
              "      <td>...</td>\n",
              "    </tr>\n",
              "    <tr>\n",
              "      <th>115</th>\n",
              "      <td>6.7</td>\n",
              "      <td>3.0</td>\n",
              "      <td>5.2</td>\n",
              "      <td>2.3</td>\n",
              "      <td>Carolinian</td>\n",
              "    </tr>\n",
              "    <tr>\n",
              "      <th>116</th>\n",
              "      <td>6.3</td>\n",
              "      <td>2.5</td>\n",
              "      <td>5.0</td>\n",
              "      <td>1.9</td>\n",
              "      <td>Carolinian</td>\n",
              "    </tr>\n",
              "    <tr>\n",
              "      <th>117</th>\n",
              "      <td>6.5</td>\n",
              "      <td>3.0</td>\n",
              "      <td>5.2</td>\n",
              "      <td>2.0</td>\n",
              "      <td>Carolinian</td>\n",
              "    </tr>\n",
              "    <tr>\n",
              "      <th>118</th>\n",
              "      <td>6.2</td>\n",
              "      <td>3.4</td>\n",
              "      <td>5.4</td>\n",
              "      <td>2.3</td>\n",
              "      <td>Carolinian</td>\n",
              "    </tr>\n",
              "    <tr>\n",
              "      <th>119</th>\n",
              "      <td>5.9</td>\n",
              "      <td>3.0</td>\n",
              "      <td>5.1</td>\n",
              "      <td>1.8</td>\n",
              "      <td>Carolinian</td>\n",
              "    </tr>\n",
              "  </tbody>\n",
              "</table>\n",
              "<p>120 rows × 5 columns</p>\n",
              "</div>"
            ],
            "text/plain": [
              "     leaf.length  leaf.width  flower.length  flower.width       plant\n",
              "0            5.4         3.7            1.5           0.2     Arctica\n",
              "1            4.8         3.4            1.6           0.2     Arctica\n",
              "2            4.8         3.0            1.4           0.1     Arctica\n",
              "3            4.3         3.0            1.1           0.1     Arctica\n",
              "4            5.8         4.0            1.2           0.2     Arctica\n",
              "..           ...         ...            ...           ...         ...\n",
              "115          6.7         3.0            5.2           2.3  Carolinian\n",
              "116          6.3         2.5            5.0           1.9  Carolinian\n",
              "117          6.5         3.0            5.2           2.0  Carolinian\n",
              "118          6.2         3.4            5.4           2.3  Carolinian\n",
              "119          5.9         3.0            5.1           1.8  Carolinian\n",
              "\n",
              "[120 rows x 5 columns]"
            ]
          },
          "execution_count": 31,
          "metadata": {},
          "output_type": "execute_result"
        }
      ],
      "source": [
        "# read the data\n",
        "dataset_file = \"IrisData.xlsx\"\n",
        "data = pd.read_excel(dataset_file)\n",
        "\n",
        "# remove missing values\n",
        "data.dropna()\n",
        "\n",
        "data"
      ]
    },
    {
      "cell_type": "code",
      "execution_count": 32,
      "metadata": {
        "colab": {
          "base_uri": "https://localhost:8080/"
        },
        "id": "7YEBCYdZlMz-",
        "outputId": "13b16667-602c-418f-94ed-5c4531c3d988"
      },
      "outputs": [
        {
          "name": "stdout",
          "output_type": "stream",
          "text": [
            "<class 'pandas.core.frame.DataFrame'>\n",
            "RangeIndex: 120 entries, 0 to 119\n",
            "Data columns (total 5 columns):\n",
            " #   Column         Non-Null Count  Dtype  \n",
            "---  ------         --------------  -----  \n",
            " 0   leaf.length    120 non-null    float64\n",
            " 1   leaf.width     120 non-null    float64\n",
            " 2   flower.length  120 non-null    float64\n",
            " 3   flower.width   120 non-null    float64\n",
            " 4   plant          120 non-null    object \n",
            "dtypes: float64(4), object(1)\n",
            "memory usage: 4.8+ KB\n"
          ]
        }
      ],
      "source": [
        "data.info()"
      ]
    },
    {
      "cell_type": "code",
      "execution_count": 33,
      "metadata": {
        "colab": {
          "base_uri": "https://localhost:8080/"
        },
        "id": "NA8ZlRJUlOg0",
        "outputId": "a046a395-c853-4d21-fa66-8cb8e5ec2909"
      },
      "outputs": [
        {
          "data": {
            "text/plain": [
              "plant\n",
              "Arctica       40\n",
              "Harlequin     40\n",
              "Carolinian    40\n",
              "Name: count, dtype: int64"
            ]
          },
          "execution_count": 33,
          "metadata": {},
          "output_type": "execute_result"
        }
      ],
      "source": [
        "data['plant'].value_counts()"
      ]
    },
    {
      "cell_type": "code",
      "execution_count": 34,
      "metadata": {
        "colab": {
          "base_uri": "https://localhost:8080/"
        },
        "id": "nfZDFyJ0lSeN",
        "outputId": "d8da8e1c-ad32-4946-cb96-8790c110e162"
      },
      "outputs": [
        {
          "name": "stdout",
          "output_type": "stream",
          "text": [
            "# duplicate rows: 0\n"
          ]
        }
      ],
      "source": [
        "print(f'# duplicate rows: {data.duplicated().sum()}')"
      ]
    },
    {
      "cell_type": "code",
      "execution_count": 35,
      "metadata": {
        "colab": {
          "base_uri": "https://localhost:8080/"
        },
        "id": "0inlwpJan2lH",
        "outputId": "9d375665-9504-4f77-fc6f-7c8f6aa67ac6"
      },
      "outputs": [
        {
          "name": "stdout",
          "output_type": "stream",
          "text": [
            "training data: 96 rows\n",
            "testing data: 24 rows\n",
            "\n",
            "train y:\n",
            " plant\n",
            "Arctica       32\n",
            "Harlequin     32\n",
            "Carolinian    32\n",
            "Name: count, dtype: int64\n",
            "\n",
            "test y:\n",
            " plant\n",
            "Harlequin     8\n",
            "Carolinian    8\n",
            "Arctica       8\n",
            "Name: count, dtype: int64\n"
          ]
        }
      ],
      "source": [
        "# Splitting the data\n",
        "\n",
        "x = data.drop(columns='plant')\n",
        "y = data['plant']\n",
        "\n",
        "train_x, test_x, train_y, test_y = train_test_split(x,y,test_size=0.2, stratify=y, random_state=10)\n",
        "print(\"training data:\",len(train_x),\"rows\")\n",
        "print(\"testing data:\",len(test_x),\"rows\")\n",
        "print()\n",
        "print(\"train y:\\n\", train_y.value_counts())\n",
        "print()\n",
        "print(\"test y:\\n\", test_y.value_counts())"
      ]
    },
    {
      "cell_type": "code",
      "execution_count": 36,
      "metadata": {},
      "outputs": [
        {
          "data": {
            "image/png": "[encoded data removed]",
            "text/plain": [
              "<Figure size 500x400 with 2 Axes>"
            ]
          },
          "metadata": {},
          "output_type": "display_data"
        },
        {
          "name": "stdout",
          "output_type": "stream",
          "text": [
            "Performance of New decision tree\n",
            "Accuracy 95.8 %\n",
            "Precision 96.3 %\n",
            "Recall 95.8 %\n"
          ]
        }
      ],
      "source": [
        "from NewDecisionTreeClassifier import NewDecisionTreeClassifier\n",
        "\n",
        "# check performance of our decision tree classifier\n",
        "decisionTreeClassifier = NewDecisionTreeClassifier()\n",
        "decisionTreeClassifier.fit(train_x, train_y)\n",
        "\n",
        "PlotConfusionMatrix(decisionTreeClassifier, test_x, test_y)\n",
        "CalculateAccuracy(decisionTreeClassifier,\"New decision tree\",test_x, test_y);"
      ]
    },
    {
      "cell_type": "code",
      "execution_count": 37,
      "metadata": {},
      "outputs": [
        {
          "data": {
            "image/png": "[encoded data removed]",
            "text/plain": [
              "<Figure size 500x400 with 2 Axes>"
            ]
          },
          "metadata": {},
          "output_type": "display_data"
        },
        {
          "name": "stdout",
          "output_type": "stream",
          "text": [
            "Performance of SKLEARN Decision Tree\n",
            "Accuracy 91.7 %\n",
            "Precision 91.7 %\n",
            "Recall 91.7 %\n"
          ]
        }
      ],
      "source": [
        "# compare with performance of sklearn decision tree classifier\n",
        "decisionTreeClassifier = sklearn.tree.DecisionTreeClassifier()\n",
        "decisionTreeClassifier.fit(train_x, train_y)\n",
        "\n",
        "PlotConfusionMatrix(decisionTreeClassifier, test_x, test_y)\n",
        "CalculateAccuracy(decisionTreeClassifier, \"SKLEARN Decision Tree\", test_x, test_y)"
      ]
    }
  ],
  "metadata": {
    "colab": {
      "provenance": []
    },
    "kernelspec": {
      "display_name": "Python 3",
      "name": "python3"
    },
    "language_info": {
      "codemirror_mode": {
        "name": "ipython",
        "version": 3
      },
      "file_extension": ".py",
      "mimetype": "text/x-python",
      "name": "python",
      "nbconvert_exporter": "python",
      "pygments_lexer": "ipython3",
      "version": "3.11.5"
    }
  },
  "nbformat": 4,
  "nbformat_minor": 0
}
